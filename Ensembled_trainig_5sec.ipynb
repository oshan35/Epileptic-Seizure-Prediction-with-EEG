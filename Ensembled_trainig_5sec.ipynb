{
  "cells": [
    {
      "cell_type": "markdown",
      "metadata": {
        "id": "view-in-github",
        "colab_type": "text"
      },
      "source": [
        "<a href=\"https://colab.research.google.com/github/oshan35/Epileptic-Seizure-Prediction-with-EEG/blob/main/Ensembled_trainig_5sec.ipynb\" target=\"_parent\"><img src=\"https://colab.research.google.com/assets/colab-badge.svg\" alt=\"Open In Colab\"/></a>"
      ]
    },
    {
      "cell_type": "code",
      "execution_count": 13,
      "metadata": {
        "id": "lfXkue3Ast8V",
        "colab": {
          "base_uri": "https://localhost:8080/"
        },
        "outputId": "7d16a063-9ced-4543-aeaf-baacd8f259f2"
      },
      "outputs": [
        {
          "output_type": "stream",
          "name": "stdout",
          "text": [
            "Drive already mounted at /content/drive; to attempt to forcibly remount, call drive.mount(\"/content/drive\", force_remount=True).\n"
          ]
        }
      ],
      "source": [
        "\n",
        "from google.colab import drive\n",
        "\n",
        "\n",
        "drive.mount('/content/drive')"
      ]
    },
    {
      "cell_type": "code",
      "execution_count": 14,
      "metadata": {
        "id": "gSFqHYKljkCx"
      },
      "outputs": [],
      "source": [
        "import pandas as pd\n",
        "from sklearn.model_selection import train_test_split\n",
        "from sklearn.svm import SVC\n",
        "from sklearn.metrics import accuracy_score\n",
        "from sklearn.impute import SimpleImputer\n",
        "from sklearn.preprocessing import StandardScaler"
      ]
    },
    {
      "cell_type": "code",
      "execution_count": 15,
      "metadata": {
        "id": "KGaAnrfM8KMX"
      },
      "outputs": [],
      "source": [
        "data=pd.read_csv('/content/drive/MyDrive/Sem_5/Machine Learning/MLProject/Epileptic-Seizure-Prediction-with-EEG/df-5-sec-timeframe.csv')"
      ]
    },
    {
      "cell_type": "code",
      "source": [
        "data"
      ],
      "metadata": {
        "id": "qwsKFToJrB3M"
      },
      "execution_count": null,
      "outputs": []
    },
    {
      "cell_type": "code",
      "execution_count": 16,
      "metadata": {
        "id": "rwpVEgzvjpag",
        "colab": {
          "base_uri": "https://localhost:8080/"
        },
        "outputId": "32b25690-96f0-40eb-82c5-68d6962aa61a"
      },
      "outputs": [
        {
          "output_type": "stream",
          "name": "stdout",
          "text": [
            "Null Data Summary:\n",
            "total_energy             0\n",
            "cD_Energy                0\n",
            "cA_Energy                0\n",
            "cD_mean                  0\n",
            "cA_mean                  0\n",
            "cD_std                   0\n",
            "cA_std                   0\n",
            "std_deviation            0\n",
            "skewness                65\n",
            "kurtosis                65\n",
            "median                   0\n",
            "band_power               0\n",
            "peak_to_peak_voltage     0\n",
            "total_signal_area        0\n",
            "decorrelation_time       0\n",
            "delta_power              0\n",
            "theta_power              0\n",
            "alpha_power              0\n",
            "beta_power               0\n",
            "gamma_power              0\n",
            "spectral_entropy        65\n",
            "seizure                  0\n",
            "dtype: int64\n"
          ]
        }
      ],
      "source": [
        "null_data_summary = data.isnull().sum()\n",
        "print(\"Null Data Summary:\")\n",
        "print(null_data_summary)"
      ]
    },
    {
      "cell_type": "code",
      "execution_count": 17,
      "metadata": {
        "id": "Tf8QaIyPqypf"
      },
      "outputs": [],
      "source": [
        "data.dropna(inplace=True)"
      ]
    },
    {
      "cell_type": "code",
      "execution_count": 18,
      "metadata": {
        "id": "i8RM74f-q0lL",
        "colab": {
          "base_uri": "https://localhost:8080/"
        },
        "outputId": "b9dd6658-bc25-467b-e9e6-f8f8663879f2"
      },
      "outputs": [
        {
          "output_type": "stream",
          "name": "stdout",
          "text": [
            "total_energy            0\n",
            "cD_Energy               0\n",
            "cA_Energy               0\n",
            "cD_mean                 0\n",
            "cA_mean                 0\n",
            "cD_std                  0\n",
            "cA_std                  0\n",
            "std_deviation           0\n",
            "skewness                0\n",
            "kurtosis                0\n",
            "median                  0\n",
            "band_power              0\n",
            "peak_to_peak_voltage    0\n",
            "total_signal_area       0\n",
            "decorrelation_time      0\n",
            "delta_power             0\n",
            "theta_power             0\n",
            "alpha_power             0\n",
            "beta_power              0\n",
            "gamma_power             0\n",
            "spectral_entropy        0\n",
            "seizure                 0\n",
            "dtype: int64\n"
          ]
        }
      ],
      "source": [
        "print(data.isnull().sum())"
      ]
    },
    {
      "cell_type": "code",
      "execution_count": 19,
      "metadata": {
        "id": "_txodcG3syDV"
      },
      "outputs": [],
      "source": [
        "y = data['seizure']\n",
        "\n",
        "X = data.drop('cA_std', axis=1)"
      ]
    },
    {
      "cell_type": "code",
      "execution_count": 20,
      "metadata": {
        "id": "TH4frdWBvrRH"
      },
      "outputs": [],
      "source": [
        "X = X.drop('seizure', axis=1)"
      ]
    },
    {
      "cell_type": "code",
      "execution_count": 21,
      "metadata": {
        "id": "Oosoa-pjlMzI"
      },
      "outputs": [],
      "source": [
        "X_train, X_test, y_train, y_test = train_test_split(X, y, test_size=0.2, random_state=42)"
      ]
    },
    {
      "cell_type": "code",
      "execution_count": 22,
      "metadata": {
        "id": "jTMgJ_6-j41Y"
      },
      "outputs": [],
      "source": [
        "\n",
        "scaler = StandardScaler()\n",
        "X_train_scaled = scaler.fit_transform(X_train)\n",
        "X_test_scaled = scaler.transform(X_test)"
      ]
    },
    {
      "cell_type": "code",
      "execution_count": null,
      "metadata": {
        "id": "-LQEvcDU1afb",
        "colab": {
          "base_uri": "https://localhost:8080/"
        },
        "outputId": "b2b9f37d-9897-453e-9940-e9e2d2a42035"
      },
      "outputs": [
        {
          "output_type": "stream",
          "name": "stdout",
          "text": [
            "Accuracy of Stacking Model: 0.8886590830748018\n"
          ]
        }
      ],
      "source": [
        "from sklearn.ensemble import RandomForestClassifier\n",
        "from sklearn.svm import SVC\n",
        "from sklearn.ensemble import StackingClassifier\n",
        "from sklearn.model_selection import train_test_split\n",
        "from sklearn.metrics import accuracy_score\n",
        "from sklearn.linear_model import LogisticRegression\n",
        "\n",
        "\n",
        "base_models = [\n",
        "    ('random_forest', RandomForestClassifier(n_estimators=100, random_state=42)),\n",
        "    ('svm', SVC(kernel='rbf', C=10, gamma=0.85, random_state=42))\n",
        "]\n",
        "\n",
        "meta_learner = LogisticRegression()\n",
        "\n",
        "stacking_model = StackingClassifier(estimators=base_models, final_estimator=meta_learner)\n",
        "\n",
        "stacking_model.fit(X_train_scaled, y_train)\n",
        "\n",
        "y_pred_stacking = stacking_model.predict(X_test_scaled)\n",
        "\n",
        "accuracy_stacking = accuracy_score(y_test, y_pred_stacking)\n",
        "print(f\"Accuracy of Stacking Model: {accuracy_stacking}\")\n"
      ]
    },
    {
      "cell_type": "code",
      "source": [
        "from sklearn.ensemble import RandomForestClassifier\n",
        "from sklearn.svm import SVC\n",
        "from sklearn.ensemble import StackingClassifier\n",
        "from sklearn.model_selection import train_test_split\n",
        "from sklearn.metrics import accuracy_score\n",
        "from sklearn.linear_model import LogisticRegression\n",
        "\n",
        "\n",
        "base_models = [\n",
        "    ('random_forest', RandomForestClassifier(n_estimators=100, random_state=42,\n",
        "                                             max_depth=10,\n",
        "                                             min_samples_split=5,\n",
        "                                             min_samples_leaf=2,\n",
        "                                             max_features='sqrt')),\n",
        "    ('svm', SVC(kernel='rbf', C=0.01, gamma=0.85, random_state=42))\n",
        "]\n",
        "\n",
        "meta_learner = LogisticRegression(C=0.1, penalty='l2')\n",
        "\n",
        "stacking_model = StackingClassifier(estimators=base_models, final_estimator=meta_learner)\n",
        "\n",
        "stacking_model.fit(X_train_scaled, y_train)\n",
        "\n",
        "y_pred_stacking = stacking_model.predict(X_test_scaled)\n",
        "\n",
        "accuracy_stacking = accuracy_score(y_test, y_pred_stacking)\n",
        "print(f\"Accuracy of Stacking Model: {accuracy_stacking}\")\n"
      ],
      "metadata": {
        "colab": {
          "base_uri": "https://localhost:8080/"
        },
        "id": "aRfn0SCEnGhA",
        "outputId": "f14239d9-8e62-498b-e136-da2c8c15f3d1"
      },
      "execution_count": null,
      "outputs": [
        {
          "output_type": "stream",
          "name": "stdout",
          "text": [
            "Accuracy of Stacking Model: 0.8028266115132713\n"
          ]
        }
      ]
    },
    {
      "cell_type": "code",
      "execution_count": null,
      "metadata": {
        "id": "L9kEFoDmjp6o",
        "colab": {
          "base_uri": "https://localhost:8080/",
          "height": 355
        },
        "outputId": "bc213599-5423-489c-a12b-406c55c3c117"
      },
      "outputs": [
        {
          "output_type": "error",
          "ename": "KeyboardInterrupt",
          "evalue": "ignored",
          "traceback": [
            "\u001b[0;31m---------------------------------------------------------------------------\u001b[0m",
            "\u001b[0;31mKeyboardInterrupt\u001b[0m                         Traceback (most recent call last)",
            "\u001b[0;32m<ipython-input-43-16681a371e0e>\u001b[0m in \u001b[0;36m<cell line: 32>\u001b[0;34m()\u001b[0m\n\u001b[1;32m     30\u001b[0m \u001b[0;34m\u001b[0m\u001b[0m\n\u001b[1;32m     31\u001b[0m \u001b[0;31m# Example usage\u001b[0m\u001b[0;34m\u001b[0m\u001b[0;34m\u001b[0m\u001b[0m\n\u001b[0;32m---> 32\u001b[0;31m \u001b[0mplot_learning_curves\u001b[0m\u001b[0;34m(\u001b[0m\u001b[0mstacking_model\u001b[0m\u001b[0;34m,\u001b[0m \u001b[0mX_train_scaled\u001b[0m\u001b[0;34m,\u001b[0m \u001b[0my_train\u001b[0m\u001b[0;34m,\u001b[0m \u001b[0mX_test_scaled\u001b[0m\u001b[0;34m,\u001b[0m \u001b[0my_test\u001b[0m\u001b[0;34m)\u001b[0m\u001b[0;34m\u001b[0m\u001b[0;34m\u001b[0m\u001b[0m\n\u001b[0m",
            "\u001b[0;32m<ipython-input-43-16681a371e0e>\u001b[0m in \u001b[0;36mplot_learning_curves\u001b[0;34m(model, X_train, y_train, X_test, y_test, train_sizes)\u001b[0m\n\u001b[1;32m      4\u001b[0m \u001b[0;34m\u001b[0m\u001b[0m\n\u001b[1;32m      5\u001b[0m \u001b[0;32mdef\u001b[0m \u001b[0mplot_learning_curves\u001b[0m\u001b[0;34m(\u001b[0m\u001b[0mmodel\u001b[0m\u001b[0;34m,\u001b[0m \u001b[0mX_train\u001b[0m\u001b[0;34m,\u001b[0m \u001b[0my_train\u001b[0m\u001b[0;34m,\u001b[0m \u001b[0mX_test\u001b[0m\u001b[0;34m,\u001b[0m \u001b[0my_test\u001b[0m\u001b[0;34m,\u001b[0m \u001b[0mtrain_sizes\u001b[0m\u001b[0;34m=\u001b[0m\u001b[0mnp\u001b[0m\u001b[0;34m.\u001b[0m\u001b[0mlinspace\u001b[0m\u001b[0;34m(\u001b[0m\u001b[0;36m0.1\u001b[0m\u001b[0;34m,\u001b[0m \u001b[0;36m1.0\u001b[0m\u001b[0;34m,\u001b[0m \u001b[0;36m10\u001b[0m\u001b[0;34m)\u001b[0m\u001b[0;34m)\u001b[0m\u001b[0;34m:\u001b[0m\u001b[0;34m\u001b[0m\u001b[0;34m\u001b[0m\u001b[0m\n\u001b[0;32m----> 6\u001b[0;31m     train_sizes, train_scores, validation_scores = learning_curve(\n\u001b[0m\u001b[1;32m      7\u001b[0m         \u001b[0mmodel\u001b[0m\u001b[0;34m,\u001b[0m \u001b[0mX_train\u001b[0m\u001b[0;34m,\u001b[0m \u001b[0my_train\u001b[0m\u001b[0;34m,\u001b[0m \u001b[0mtrain_sizes\u001b[0m\u001b[0;34m=\u001b[0m\u001b[0mtrain_sizes\u001b[0m\u001b[0;34m,\u001b[0m \u001b[0mcv\u001b[0m\u001b[0;34m=\u001b[0m\u001b[0;36m5\u001b[0m\u001b[0;34m,\u001b[0m\u001b[0;34m\u001b[0m\u001b[0;34m\u001b[0m\u001b[0m\n\u001b[1;32m      8\u001b[0m         \u001b[0mscoring\u001b[0m\u001b[0;34m=\u001b[0m\u001b[0;34m'accuracy'\u001b[0m\u001b[0;34m,\u001b[0m \u001b[0mn_jobs\u001b[0m\u001b[0;34m=\u001b[0m\u001b[0;34m-\u001b[0m\u001b[0;36m1\u001b[0m\u001b[0;34m\u001b[0m\u001b[0;34m\u001b[0m\u001b[0m\n",
            "\u001b[0;32m/usr/local/lib/python3.10/dist-packages/sklearn/model_selection/_validation.py\u001b[0m in \u001b[0;36mlearning_curve\u001b[0;34m(estimator, X, y, groups, train_sizes, cv, scoring, exploit_incremental_learning, n_jobs, pre_dispatch, verbose, shuffle, random_state, error_score, return_times, fit_params)\u001b[0m\n\u001b[1;32m   1595\u001b[0m                 \u001b[0mtrain_test_proportions\u001b[0m\u001b[0;34m.\u001b[0m\u001b[0mappend\u001b[0m\u001b[0;34m(\u001b[0m\u001b[0;34m(\u001b[0m\u001b[0mtrain\u001b[0m\u001b[0;34m[\u001b[0m\u001b[0;34m:\u001b[0m\u001b[0mn_train_samples\u001b[0m\u001b[0;34m]\u001b[0m\u001b[0;34m,\u001b[0m \u001b[0mtest\u001b[0m\u001b[0;34m)\u001b[0m\u001b[0;34m)\u001b[0m\u001b[0;34m\u001b[0m\u001b[0;34m\u001b[0m\u001b[0m\n\u001b[1;32m   1596\u001b[0m \u001b[0;34m\u001b[0m\u001b[0m\n\u001b[0;32m-> 1597\u001b[0;31m         results = parallel(\n\u001b[0m\u001b[1;32m   1598\u001b[0m             delayed(_fit_and_score)(\n\u001b[1;32m   1599\u001b[0m                 \u001b[0mclone\u001b[0m\u001b[0;34m(\u001b[0m\u001b[0mestimator\u001b[0m\u001b[0;34m)\u001b[0m\u001b[0;34m,\u001b[0m\u001b[0;34m\u001b[0m\u001b[0;34m\u001b[0m\u001b[0m\n",
            "\u001b[0;32m/usr/local/lib/python3.10/dist-packages/sklearn/utils/parallel.py\u001b[0m in \u001b[0;36m__call__\u001b[0;34m(self, iterable)\u001b[0m\n\u001b[1;32m     61\u001b[0m             \u001b[0;32mfor\u001b[0m \u001b[0mdelayed_func\u001b[0m\u001b[0;34m,\u001b[0m \u001b[0margs\u001b[0m\u001b[0;34m,\u001b[0m \u001b[0mkwargs\u001b[0m \u001b[0;32min\u001b[0m \u001b[0miterable\u001b[0m\u001b[0;34m\u001b[0m\u001b[0;34m\u001b[0m\u001b[0m\n\u001b[1;32m     62\u001b[0m         )\n\u001b[0;32m---> 63\u001b[0;31m         \u001b[0;32mreturn\u001b[0m \u001b[0msuper\u001b[0m\u001b[0;34m(\u001b[0m\u001b[0;34m)\u001b[0m\u001b[0;34m.\u001b[0m\u001b[0m__call__\u001b[0m\u001b[0;34m(\u001b[0m\u001b[0miterable_with_config\u001b[0m\u001b[0;34m)\u001b[0m\u001b[0;34m\u001b[0m\u001b[0;34m\u001b[0m\u001b[0m\n\u001b[0m\u001b[1;32m     64\u001b[0m \u001b[0;34m\u001b[0m\u001b[0m\n\u001b[1;32m     65\u001b[0m \u001b[0;34m\u001b[0m\u001b[0m\n",
            "\u001b[0;32m/usr/local/lib/python3.10/dist-packages/joblib/parallel.py\u001b[0m in \u001b[0;36m__call__\u001b[0;34m(self, iterable)\u001b[0m\n\u001b[1;32m   1950\u001b[0m         \u001b[0mnext\u001b[0m\u001b[0;34m(\u001b[0m\u001b[0moutput\u001b[0m\u001b[0;34m)\u001b[0m\u001b[0;34m\u001b[0m\u001b[0;34m\u001b[0m\u001b[0m\n\u001b[1;32m   1951\u001b[0m \u001b[0;34m\u001b[0m\u001b[0m\n\u001b[0;32m-> 1952\u001b[0;31m         \u001b[0;32mreturn\u001b[0m \u001b[0moutput\u001b[0m \u001b[0;32mif\u001b[0m \u001b[0mself\u001b[0m\u001b[0;34m.\u001b[0m\u001b[0mreturn_generator\u001b[0m \u001b[0;32melse\u001b[0m \u001b[0mlist\u001b[0m\u001b[0;34m(\u001b[0m\u001b[0moutput\u001b[0m\u001b[0;34m)\u001b[0m\u001b[0;34m\u001b[0m\u001b[0;34m\u001b[0m\u001b[0m\n\u001b[0m\u001b[1;32m   1953\u001b[0m \u001b[0;34m\u001b[0m\u001b[0m\n\u001b[1;32m   1954\u001b[0m     \u001b[0;32mdef\u001b[0m \u001b[0m__repr__\u001b[0m\u001b[0;34m(\u001b[0m\u001b[0mself\u001b[0m\u001b[0;34m)\u001b[0m\u001b[0;34m:\u001b[0m\u001b[0;34m\u001b[0m\u001b[0;34m\u001b[0m\u001b[0m\n",
            "\u001b[0;32m/usr/local/lib/python3.10/dist-packages/joblib/parallel.py\u001b[0m in \u001b[0;36m_get_outputs\u001b[0;34m(self, iterator, pre_dispatch)\u001b[0m\n\u001b[1;32m   1593\u001b[0m \u001b[0;34m\u001b[0m\u001b[0m\n\u001b[1;32m   1594\u001b[0m             \u001b[0;32mwith\u001b[0m \u001b[0mself\u001b[0m\u001b[0;34m.\u001b[0m\u001b[0m_backend\u001b[0m\u001b[0;34m.\u001b[0m\u001b[0mretrieval_context\u001b[0m\u001b[0;34m(\u001b[0m\u001b[0;34m)\u001b[0m\u001b[0;34m:\u001b[0m\u001b[0;34m\u001b[0m\u001b[0;34m\u001b[0m\u001b[0m\n\u001b[0;32m-> 1595\u001b[0;31m                 \u001b[0;32myield\u001b[0m \u001b[0;32mfrom\u001b[0m \u001b[0mself\u001b[0m\u001b[0;34m.\u001b[0m\u001b[0m_retrieve\u001b[0m\u001b[0;34m(\u001b[0m\u001b[0;34m)\u001b[0m\u001b[0;34m\u001b[0m\u001b[0;34m\u001b[0m\u001b[0m\n\u001b[0m\u001b[1;32m   1596\u001b[0m \u001b[0;34m\u001b[0m\u001b[0m\n\u001b[1;32m   1597\u001b[0m         \u001b[0;32mexcept\u001b[0m \u001b[0mGeneratorExit\u001b[0m\u001b[0;34m:\u001b[0m\u001b[0;34m\u001b[0m\u001b[0;34m\u001b[0m\u001b[0m\n",
            "\u001b[0;32m/usr/local/lib/python3.10/dist-packages/joblib/parallel.py\u001b[0m in \u001b[0;36m_retrieve\u001b[0;34m(self)\u001b[0m\n\u001b[1;32m   1705\u001b[0m                 (self._jobs[0].get_status(\n\u001b[1;32m   1706\u001b[0m                     timeout=self.timeout) == TASK_PENDING)):\n\u001b[0;32m-> 1707\u001b[0;31m                 \u001b[0mtime\u001b[0m\u001b[0;34m.\u001b[0m\u001b[0msleep\u001b[0m\u001b[0;34m(\u001b[0m\u001b[0;36m0.01\u001b[0m\u001b[0;34m)\u001b[0m\u001b[0;34m\u001b[0m\u001b[0;34m\u001b[0m\u001b[0m\n\u001b[0m\u001b[1;32m   1708\u001b[0m                 \u001b[0;32mcontinue\u001b[0m\u001b[0;34m\u001b[0m\u001b[0;34m\u001b[0m\u001b[0m\n\u001b[1;32m   1709\u001b[0m \u001b[0;34m\u001b[0m\u001b[0m\n",
            "\u001b[0;31mKeyboardInterrupt\u001b[0m: "
          ]
        }
      ],
      "source": [
        "import numpy as np\n",
        "import matplotlib.pyplot as plt\n",
        "from sklearn.model_selection import learning_curve\n",
        "\n",
        "def plot_learning_curves(model, X_train, y_train, X_test, y_test, train_sizes=np.linspace(0.1, 1.0, 10)):\n",
        "    train_sizes, train_scores, validation_scores = learning_curve(\n",
        "        model, X_train, y_train, train_sizes=train_sizes, cv=5,\n",
        "        scoring='accuracy', n_jobs=-1\n",
        "    )\n",
        "\n",
        "    train_mean = np.mean(train_scores, axis=1)\n",
        "    train_std = np.std(train_scores, axis=1)\n",
        "\n",
        "    validation_mean = np.mean(validation_scores, axis=1)\n",
        "    validation_std = np.std(validation_scores, axis=1)\n",
        "\n",
        "    plt.fill_between(train_sizes, train_mean - train_std, train_mean + train_std, color=\"#DDDDDD\")\n",
        "    plt.fill_between(train_sizes, validation_mean - validation_std, validation_mean + validation_std, color=\"#DDDDDD\")\n",
        "\n",
        "    plt.plot(train_sizes, train_mean, label='Training score')\n",
        "    plt.plot(train_sizes, validation_mean, label='Cross-validation score')\n",
        "\n",
        "    plt.title('Learning curves')\n",
        "    plt.xlabel('Training Set Size')\n",
        "    plt.ylabel('Accuracy Score')\n",
        "    plt.legend(loc='best')\n",
        "    plt.show()\n",
        "\n",
        "plot_learning_curves(stacking_model, X_train_scaled, y_train, X_test_scaled, y_test)\n"
      ]
    },
    {
      "cell_type": "code",
      "source": [
        "def plot_learning_curves(model, X_train, y_train, X_test, y_test, train_sizes=np.linspace(0.1, 1.0, 10)):\n",
        "    train_sizes, train_scores, validation_scores = learning_curve(\n",
        "        model, X_train, y_train, train_sizes=train_sizes, cv=5,\n",
        "        scoring='accuracy', n_jobs=-1\n",
        "    )\n",
        "\n",
        "    train_mean = np.mean(train_scores, axis=1)\n",
        "    train_std = np.std(train_scores, axis=1)\n",
        "\n",
        "    validation_mean = np.mean(validation_scores, axis=1)\n",
        "    validation_std = np.std(validation_scores, axis=1)\n",
        "\n",
        "\n",
        "    plt.fill_between(train_sizes, train_mean - train_std, train_mean + train_std, color=\"#DDDDDD\")\n",
        "    plt.fill_between(train_sizes, validation_mean - validation_std, validation_mean + validation_std, color=\"#DDDDDD\")\n",
        "\n",
        "    train_mean_scaled = train_mean * 100\n",
        "    validation_mean_scaled = validation_mean * 100\n",
        "\n",
        "    plt.plot(train_sizes, train_mean_scaled, label='Training score')\n",
        "    plt.plot(train_sizes, validation_mean_scaled, label='Cross-validation score')\n",
        "\n",
        "    plt.title('Learning curves')\n",
        "    plt.xlabel('Training Set Size')\n",
        "    plt.ylabel('Accuracy Score')\n",
        "    plt.legend(loc='best')\n",
        "\n",
        "    plt.ylim(0, 100)\n",
        "\n",
        "    plt.show()\n"
      ],
      "metadata": {
        "id": "mclNwGESXdFn"
      },
      "execution_count": null,
      "outputs": []
    },
    {
      "cell_type": "code",
      "source": [],
      "metadata": {
        "id": "3--WsDcSeO1U"
      },
      "execution_count": null,
      "outputs": []
    },
    {
      "cell_type": "code",
      "source": [
        "import numpy as np\n",
        "import matplotlib.pyplot as plt\n",
        "from sklearn.model_selection import learning_curve\n",
        "\n",
        "def plot_learning_curves(model, X_train, y_train, X_test, y_test, train_sizes=np.linspace(0.1, 1.0, 10)):\n",
        "    train_sizes, train_scores, validation_scores = learning_curve(\n",
        "        model, X_train, y_train, train_sizes=train_sizes, cv=5,\n",
        "        scoring='accuracy', n_jobs=-1\n",
        "    )\n",
        "\n",
        "    train_mean = np.mean(train_scores, axis=1)\n",
        "    train_std = np.std(train_scores, axis=1)\n",
        "\n",
        "    validation_mean = np.mean(validation_scores, axis=1)\n",
        "    validation_std = np.std(validation_scores, axis=1)\n",
        "\n",
        "    plt.fill_between(train_sizes, train_mean - train_std, train_mean + train_std, color=\"#DDDDDD\")\n",
        "    plt.fill_between(train_sizes, validation_mean - validation_std, validation_mean + validation_std, color=\"#DDDDDD\")\n",
        "\n",
        "    plt.plot(train_sizes, train_mean, label='Training score')\n",
        "    plt.plot(train_sizes, validation_mean, label='Cross-validation score')\n",
        "\n",
        "    plt.title('Learning curves')\n",
        "    plt.xlabel('Training Set Size')\n",
        "    plt.ylabel('Accuracy Score')\n",
        "    plt.legend(loc='best')\n",
        "    plt.show()\n",
        "\n",
        "    last_training_score = train_mean[-1]\n",
        "    print(last_training_score)\n",
        "\n",
        "plot_learning_curves(stacking_model, X_train_scaled, y_train, X_test_scaled, y_test)\n"
      ],
      "metadata": {
        "colab": {
          "base_uri": "https://localhost:8080/",
          "height": 489
        },
        "id": "eQOAetwct-xk",
        "outputId": "419341a3-ecc8-45aa-d813-02eb3b9049c4"
      },
      "execution_count": null,
      "outputs": [
        {
          "output_type": "display_data",
          "data": {
            "text/plain": [
              "<Figure size 640x480 with 1 Axes>"
            ],
            "image/png": "[encoded data removed]"
          },
          "metadata": {}
        },
        {
          "output_type": "stream",
          "name": "stdout",
          "text": [
            "0.8880224041361482\n"
          ]
        }
      ]
    },
    {
      "cell_type": "markdown",
      "source": [
        "SMOTE and KFold validation"
      ],
      "metadata": {
        "id": "3E4Hh5HfQEIO"
      }
    },
    {
      "cell_type": "code",
      "source": [
        "from imblearn.over_sampling import SMOTE\n",
        "from sklearn.model_selection import StratifiedKFold\n",
        "\n",
        "\n",
        "\n",
        "smote = SMOTE(random_state=42)\n",
        "X_resampled, y_resampled = smote.fit_resample(X, y)\n",
        "\n",
        "\n",
        "\n",
        "\n",
        "skf = StratifiedKFold(n_splits=5, random_state=42, shuffle=True)\n",
        "\n",
        "for train_index, test_index in skf.split(X_resampled, y_resampled):\n",
        "    X_train, X_test = X_resampled.iloc[train_index], X_resampled.iloc[test_index]\n",
        "    y_train, y_test = y_resampled.iloc[train_index], y_resampled.iloc[test_index]\n",
        "\n",
        "\n",
        "    scaler = StandardScaler()\n",
        "    X_train_scaled = scaler.fit_transform(X_train)\n",
        "    X_test_scaled = scaler.transform(X_test)\n"
      ],
      "metadata": {
        "id": "uunOcyBSQKs8"
      },
      "execution_count": null,
      "outputs": []
    },
    {
      "cell_type": "markdown",
      "source": [
        "# **t-SNE**"
      ],
      "metadata": {
        "id": "DjEipRKpiqwU"
      }
    },
    {
      "cell_type": "code",
      "source": [
        "from sklearn.ensemble import RandomForestClassifier\n",
        "from sklearn.svm import SVC\n",
        "from sklearn.ensemble import StackingClassifier\n",
        "from sklearn.model_selection import train_test_split\n",
        "from sklearn.metrics import accuracy_score\n",
        "from sklearn.linear_model import LogisticRegression\n",
        "from sklearn.preprocessing import StandardScaler\n",
        "from sklearn.manifold import TSNE\n",
        "\n",
        "\n",
        "scaler = StandardScaler()\n",
        "X_train_scaled = scaler.fit_transform(X_train)\n",
        "X_test_scaled = scaler.transform(X_test)\n",
        "\n",
        "# Initialize t-SNE\n",
        "tsne = TSNE(random_state=42)\n",
        "\n",
        "# Fit and transform t-SNE on standardized training data\n",
        "X_train_embedded = tsne.fit_transform(X_train_scaled)\n",
        "\n",
        "# Fit and transform t-SNE on standardized test data\n",
        "X_test_embedded = tsne.fit_transform(X_test_scaled)\n",
        "\n",
        "# Stacking Classifier\n",
        "base_models = [\n",
        "    ('random_forest', RandomForestClassifier(n_estimators=100, random_state=42,\n",
        "                                             max_depth=10,\n",
        "                                             min_samples_split=5,\n",
        "                                             min_samples_leaf=2,\n",
        "                                             max_features='sqrt')),\n",
        "    ('svm', SVC(kernel='rbf', C=0.01, gamma=0.85, random_state=42))\n",
        "]\n",
        "\n",
        "meta_learner = LogisticRegression(C=0.1, penalty='l2')\n",
        "\n",
        "stacking_model = StackingClassifier(estimators=base_models, final_estimator=meta_learner)\n",
        "\n",
        "# Fit Stacking Classifier\n",
        "stacking_model.fit(X_train_embedded, y_train)\n",
        "\n",
        "# Predict using Stacking Classifier\n",
        "y_pred_stacking = stacking_model.predict(X_test_embedded)\n",
        "\n",
        "# Calculate accuracy\n",
        "accuracy_stacking = accuracy_score(y_test, y_pred_stacking)\n",
        "print(f\"Accuracy of Stacking Model: {accuracy_stacking}\")\n"
      ],
      "metadata": {
        "colab": {
          "base_uri": "https://localhost:8080/"
        },
        "id": "pyvbiprDip6R",
        "outputId": "d876fe1c-5241-473f-f278-54fcf4febdbf"
      },
      "execution_count": 24,
      "outputs": [
        {
          "output_type": "stream",
          "name": "stdout",
          "text": [
            "Accuracy of Stacking Model: 0.5545415036940461\n"
          ]
        }
      ]
    },
    {
      "cell_type": "markdown",
      "source": [
        " **imblearn Pipeline(random over sampler)**"
      ],
      "metadata": {
        "id": "Oxk-uTnwBg2X"
      }
    },
    {
      "cell_type": "code",
      "source": [
        "import pandas as pd\n",
        "from sklearn.model_selection import train_test_split\n",
        "from sklearn.preprocessing import StandardScaler\n",
        "from sklearn.ensemble import RandomForestClassifier\n",
        "from sklearn.svm import SVC\n",
        "from sklearn.linear_model import LogisticRegression\n",
        "from sklearn.metrics import accuracy_score\n",
        "from imblearn.pipeline import Pipeline\n",
        "from imblearn.over_sampling import RandomOverSampler\n",
        "\n",
        "# Read the CSV file\n",
        "data = pd.read_csv('/content/drive/MyDrive/Sem_5/Machine Learning/MLProject/Epileptic-Seizure-Prediction-with-EEG/df-5-sec-timeframe.csv')\n",
        "data.dropna(inplace=True)\n",
        "\n",
        "# Define features and target\n",
        "y = data['seizure']\n",
        "X = data.drop(['cA_std', 'seizure'], axis=1)\n",
        "\n",
        "# Split data into train and test sets\n",
        "X_train, X_test, y_train, y_test = train_test_split(X, y, test_size=0.2, random_state=42)\n",
        "\n",
        "# Create an imbalanced pipeline\n",
        "pipeline = Pipeline([\n",
        "    ('scaler', StandardScaler()),                 # Step 1: Feature scaling\n",
        "    ('sampler', RandomOverSampler()),            # Step 2: Resampling (imbalanced-learn)\n",
        "    ('classifier', StackingClassifier(           # Step 3: Stacking Classifier\n",
        "        estimators=[\n",
        "            ('random_forest', RandomForestClassifier(n_estimators=100, random_state=42,\n",
        "                                                      max_depth=10,\n",
        "                                                      min_samples_split=5,\n",
        "                                                      min_samples_leaf=2,\n",
        "                                                      max_features='sqrt')),\n",
        "            ('svm', SVC(kernel='rbf', C=0.01, gamma=0.85, random_state=42))\n",
        "        ],\n",
        "        final_estimator=LogisticRegression(C=0.1, penalty='l2')\n",
        "    ))\n",
        "])\n",
        "\n",
        "# Fit the pipeline\n",
        "pipeline.fit(X_train, y_train)\n",
        "\n",
        "# Predict using the pipeline\n",
        "y_pred = pipeline.predict(X_test)\n",
        "\n",
        "# Calculate accuracy\n",
        "accuracy = accuracy_score(y_test, y_pred)\n",
        "print(f\"Accuracy of Stacking Model with Resampling: {accuracy}\")\n"
      ],
      "metadata": {
        "colab": {
          "base_uri": "https://localhost:8080/"
        },
        "id": "qKRxpX0BBgDE",
        "outputId": "c07607c1-ab2d-40c8-c19c-46c106d49301"
      },
      "execution_count": 25,
      "outputs": [
        {
          "output_type": "stream",
          "name": "stdout",
          "text": [
            "Accuracy of Stacking Model with Resampling: 0.8039982616253802\n"
          ]
        }
      ]
    },
    {
      "cell_type": "code",
      "source": [
        "import numpy as np\n",
        "import matplotlib.pyplot as plt\n",
        "from sklearn.model_selection import learning_curve\n",
        "\n",
        "def plot_learning_curves(model, X_train, y_train, train_sizes=np.linspace(0.1, 1.0, 10)):\n",
        "    train_sizes, train_scores, validation_scores = learning_curve(\n",
        "        model, X_train, y_train, train_sizes=train_sizes, cv=5,\n",
        "        scoring='accuracy', n_jobs=-1\n",
        "    )\n",
        "\n",
        "    train_mean = np.mean(train_scores, axis=1)\n",
        "    train_std = np.std(train_scores, axis=1)\n",
        "\n",
        "    validation_mean = np.mean(validation_scores, axis=1)\n",
        "    validation_std = np.std(validation_scores, axis=1)\n",
        "\n",
        "    plt.fill_between(train_sizes, train_mean - train_std, train_mean + train_std, color=\"#DDDDDD\")\n",
        "    plt.fill_between(train_sizes, validation_mean - validation_std, validation_mean + validation_std, color=\"#DDDDDD\")\n",
        "\n",
        "    plt.plot(train_sizes, train_mean, label='Training score')\n",
        "    plt.plot(train_sizes, validation_mean, label='Cross-validation score')\n",
        "\n",
        "    plt.title('Learning curves')\n",
        "    plt.xlabel('Training Set Size')\n",
        "    plt.ylabel('Accuracy Score')\n",
        "    plt.legend(loc='best')\n",
        "    plt.show()\n",
        "\n",
        "    last_training_score = train_mean[-1]\n",
        "    print(last_training_score)\n",
        "\n",
        "\n",
        "plot_learning_curves(pipeline, X_train, y_train)\n"
      ],
      "metadata": {
        "colab": {
          "base_uri": "https://localhost:8080/",
          "height": 489
        },
        "id": "hRYL7_4tCESA",
        "outputId": "34db27ab-6f13-459e-b456-0dd0ba6f9337"
      },
      "execution_count": 27,
      "outputs": [
        {
          "output_type": "display_data",
          "data": {
            "text/plain": [
              "<Figure size 640x480 with 1 Axes>"
            ],
            "image/png": "[encoded data removed]"
          },
          "metadata": {}
        },
        {
          "output_type": "stream",
          "name": "stdout",
          "text": [
            "0.901358695652174\n"
          ]
        }
      ]
    },
    {
      "cell_type": "markdown",
      "source": [
        "**imblearn Pipeline(SMOTE)**"
      ],
      "metadata": {
        "id": "Bpc0MFl_I1NK"
      }
    },
    {
      "cell_type": "code",
      "source": [
        "import pandas as pd\n",
        "from sklearn.model_selection import train_test_split\n",
        "from sklearn.preprocessing import StandardScaler\n",
        "from sklearn.ensemble import RandomForestClassifier\n",
        "from sklearn.svm import SVC\n",
        "from sklearn.linear_model import LogisticRegression\n",
        "from sklearn.metrics import accuracy_score\n",
        "from imblearn.pipeline import Pipeline\n",
        "from imblearn.over_sampling import SMOTE\n",
        "\n",
        "# Read the CSV file\n",
        "data = pd.read_csv('/content/drive/MyDrive/Sem_5/Machine Learning/MLProject/Epileptic-Seizure-Prediction-with-EEG/df-5-sec-timeframe.csv')\n",
        "data.dropna(inplace=True)\n",
        "\n",
        "# Define features and target\n",
        "y = data['seizure']\n",
        "X = data.drop(['cA_std', 'seizure'], axis=1)\n",
        "\n",
        "# Split data into train and test sets\n",
        "X_train, X_test, y_train, y_test = train_test_split(X, y, test_size=0.2, random_state=42)\n",
        "\n",
        "# Create an imbalanced pipeline\n",
        "pipeline_with_smote = Pipeline([\n",
        "    ('scaler', StandardScaler()),               # Step 1: Feature scaling\n",
        "    ('sampler', SMOTE(random_state=42)),       # Step 2: SMOTE (imbalanced-learn)\n",
        "    ('classifier', StackingClassifier(         # Step 3: Stacking Classifier\n",
        "        estimators=[\n",
        "            ('random_forest', RandomForestClassifier(n_estimators=100, random_state=42,\n",
        "                                                      max_depth=11,\n",
        "                                                      min_samples_split=5,\n",
        "                                                      min_samples_leaf=2,\n",
        "                                                      max_features='sqrt')),\n",
        "            ('svm', SVC(kernel='rbf', C=0.05, gamma=0.85, random_state=42))\n",
        "        ],\n",
        "        final_estimator=LogisticRegression(C=0.1, penalty='l2')\n",
        "    ))\n",
        "])\n",
        "\n",
        "# Fit the pipeline\n",
        "pipeline.fit(X_train, y_train)\n",
        "\n",
        "# Predict using the pipeline\n",
        "y_pred = pipeline.predict(X_test)\n",
        "\n",
        "# Calculate accuracy\n",
        "accuracy = accuracy_score(y_test, y_pred)\n",
        "print(f\"Accuracy of Stacking Model with Resampling: {accuracy}\")\n"
      ],
      "metadata": {
        "colab": {
          "base_uri": "https://localhost:8080/"
        },
        "id": "XPYX8uYUIdPv",
        "outputId": "c2d140d2-4d68-45f6-d86f-57d2f0f1aba6"
      },
      "execution_count": 35,
      "outputs": [
        {
          "output_type": "stream",
          "name": "stdout",
          "text": [
            "Accuracy of Stacking Model with Resampling: 0.8013906996957845\n"
          ]
        }
      ]
    }
  ],
  "metadata": {
    "colab": {
      "provenance": [],
      "include_colab_link": true
    },
    "kernelspec": {
      "display_name": "Python 3",
      "name": "python3"
    },
    "language_info": {
      "name": "python"
    }
  },
  "nbformat": 4,
  "nbformat_minor": 0
}