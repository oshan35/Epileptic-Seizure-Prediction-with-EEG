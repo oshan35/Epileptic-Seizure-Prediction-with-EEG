{
  "nbformat": 4,
  "nbformat_minor": 0,
  "metadata": {
    "colab": {
      "provenance": [],
      "mount_file_id": "1DNLVArKDG1jqKuXSH4xrHiSnhj-7aQac",
      "authorship_tag": "ABX9TyOhdXre3kqfJJsqehdGDzrW",
      "include_colab_link": true
    },
    "kernelspec": {
      "name": "python3",
      "display_name": "Python 3"
    },
    "language_info": {
      "name": "python"
    }
  },
  "cells": [
    {
      "cell_type": "markdown",
      "metadata": {
        "id": "view-in-github",
        "colab_type": "text"
      },
      "source": [
        "<a href=\"https://colab.research.google.com/github/oshan35/Epileptic-Seizure-Prediction-with-EEG/blob/main/Random_Forest_for_ESD.ipynb\" target=\"_parent\"><img src=\"https://colab.research.google.com/assets/colab-badge.svg\" alt=\"Open In Colab\"/></a>"
      ]
    },
    {
      "cell_type": "code",
      "source": [],
      "metadata": {
        "id": "TjUGtKGQ3bzO"
      },
      "execution_count": null,
      "outputs": []
    },
    {
      "cell_type": "code",
      "execution_count": 1,
      "metadata": {
        "id": "TixZPdnF2XH3"
      },
      "outputs": [],
      "source": [
        "import pandas as pd\n",
        "import numpy as np\n",
        "import matplotlib.pyplot as plt"
      ]
    },
    {
      "cell_type": "code",
      "source": [
        "dataset = pd.read_csv(\"/content/drive/MyDrive/EEG-Projects/CHB-MIT-Extracted-Featuers/intermediate_dataframe10.csv\")"
      ],
      "metadata": {
        "id": "k2iEHo1s3Wtv"
      },
      "execution_count": 2,
      "outputs": []
    },
    {
      "cell_type": "code",
      "source": [
        "dataset.head()"
      ],
      "metadata": {
        "colab": {
          "base_uri": "https://localhost:8080/",
          "height": 342
        },
        "id": "vBTWJNSV3pmj",
        "outputId": "b3bc4de5-3db2-4ee6-b56b-cac123d3cd9b"
      },
      "execution_count": 5,
      "outputs": [
        {
          "output_type": "execute_result",
          "data": {
            "text/plain": [
              "   total_energy     cD_Energy     cA_Energy       cD_mean   cA_mean    cD_std  \\\n",
              "0  1.049129e-08  2.964715e-09  7.526573e-09 -1.058221e-06 -0.000041  0.000018   \n",
              "1  9.942815e-09  2.602781e-09  7.340034e-09 -2.130085e-07  0.000005  0.000016   \n",
              "2  1.514415e-08  3.832308e-09  1.131184e-08  2.809866e-07 -0.000057  0.000019   \n",
              "3  1.241042e-08  3.621845e-09  8.788571e-09  6.408471e-07 -0.000047  0.000018   \n",
              "4  2.222277e-08  5.579810e-09  1.664296e-08 -1.019392e-06 -0.000022  0.000024   \n",
              "\n",
              "   cA_std  std_deviation  skewness  kurtosis  ...  peak_to_peak_voltage  \\\n",
              "0     0.0       0.000018  0.000043  1.913422  ...              0.000188   \n",
              "1     0.0       0.000017 -0.069634  1.155495  ...              0.000167   \n",
              "2     0.0       0.000021  0.027133  0.563959  ...              0.000177   \n",
              "3     0.0       0.000020 -0.088474  0.620514  ...              0.000167   \n",
              "4     0.0       0.000026 -0.127484  1.499476  ...              0.000269   \n",
              "\n",
              "   total_signal_area  decorrelation_time   delta_power   theta_power  \\\n",
              "0           0.208586                21.0  1.724271e-10  6.901304e-11   \n",
              "1           0.202015                16.5  1.688063e-10  6.410938e-11   \n",
              "2           0.250748                22.0  2.640359e-10  9.601031e-11   \n",
              "3           0.236297                28.6  2.359125e-10  8.217361e-11   \n",
              "4           0.307929                25.4  4.305053e-10  1.219061e-10   \n",
              "\n",
              "    alpha_power    beta_power   gamma_power  spectral_entropy  seizure  \n",
              "0  1.475933e-11  2.435610e-11  7.009636e-12          3.955932      1.0  \n",
              "1  1.274803e-11  1.533214e-11  2.343582e-12          3.804794      1.0  \n",
              "2  2.136760e-11  1.223541e-11  1.767946e-12          3.615178      1.0  \n",
              "3  2.774180e-11  1.162628e-11  4.464775e-12          3.756513      1.0  \n",
              "4  2.998843e-11  5.046479e-11  6.630836e-12          3.793919      1.0  \n",
              "\n",
              "[5 rows x 22 columns]"
            ],
            "text/html": [
              "\n",
              "  <div id=\"df-ede829dd-1cc8-4a85-b85a-49003ad67c07\" class=\"colab-df-container\">\n",
              "    <div>\n",
              "<style scoped>\n",
              "    .dataframe tbody tr th:only-of-type {\n",
              "        vertical-align: middle;\n",
              "    }\n",
              "\n",
              "    .dataframe tbody tr th {\n",
              "        vertical-align: top;\n",
              "    }\n",
              "\n",
              "    .dataframe thead th {\n",
              "        text-align: right;\n",
              "    }\n",
              "</style>\n",
              "<table border=\"1\" class=\"dataframe\">\n",
              "  <thead>\n",
              "    <tr style=\"text-align: right;\">\n",
              "      <th></th>\n",
              "      <th>total_energy</th>\n",
              "      <th>cD_Energy</th>\n",
              "      <th>cA_Energy</th>\n",
              "      <th>cD_mean</th>\n",
              "      <th>cA_mean</th>\n",
              "      <th>cD_std</th>\n",
              "      <th>cA_std</th>\n",
              "      <th>std_deviation</th>\n",
              "      <th>skewness</th>\n",
              "      <th>kurtosis</th>\n",
              "      <th>...</th>\n",
              "      <th>peak_to_peak_voltage</th>\n",
              "      <th>total_signal_area</th>\n",
              "      <th>decorrelation_time</th>\n",
              "      <th>delta_power</th>\n",
              "      <th>theta_power</th>\n",
              "      <th>alpha_power</th>\n",
              "      <th>beta_power</th>\n",
              "      <th>gamma_power</th>\n",
              "      <th>spectral_entropy</th>\n",
              "      <th>seizure</th>\n",
              "    </tr>\n",
              "  </thead>\n",
              "  <tbody>\n",
              "    <tr>\n",
              "      <th>0</th>\n",
              "      <td>1.049129e-08</td>\n",
              "      <td>2.964715e-09</td>\n",
              "      <td>7.526573e-09</td>\n",
              "      <td>-1.058221e-06</td>\n",
              "      <td>-0.000041</td>\n",
              "      <td>0.000018</td>\n",
              "      <td>0.0</td>\n",
              "      <td>0.000018</td>\n",
              "      <td>0.000043</td>\n",
              "      <td>1.913422</td>\n",
              "      <td>...</td>\n",
              "      <td>0.000188</td>\n",
              "      <td>0.208586</td>\n",
              "      <td>21.0</td>\n",
              "      <td>1.724271e-10</td>\n",
              "      <td>6.901304e-11</td>\n",
              "      <td>1.475933e-11</td>\n",
              "      <td>2.435610e-11</td>\n",
              "      <td>7.009636e-12</td>\n",
              "      <td>3.955932</td>\n",
              "      <td>1.0</td>\n",
              "    </tr>\n",
              "    <tr>\n",
              "      <th>1</th>\n",
              "      <td>9.942815e-09</td>\n",
              "      <td>2.602781e-09</td>\n",
              "      <td>7.340034e-09</td>\n",
              "      <td>-2.130085e-07</td>\n",
              "      <td>0.000005</td>\n",
              "      <td>0.000016</td>\n",
              "      <td>0.0</td>\n",
              "      <td>0.000017</td>\n",
              "      <td>-0.069634</td>\n",
              "      <td>1.155495</td>\n",
              "      <td>...</td>\n",
              "      <td>0.000167</td>\n",
              "      <td>0.202015</td>\n",
              "      <td>16.5</td>\n",
              "      <td>1.688063e-10</td>\n",
              "      <td>6.410938e-11</td>\n",
              "      <td>1.274803e-11</td>\n",
              "      <td>1.533214e-11</td>\n",
              "      <td>2.343582e-12</td>\n",
              "      <td>3.804794</td>\n",
              "      <td>1.0</td>\n",
              "    </tr>\n",
              "    <tr>\n",
              "      <th>2</th>\n",
              "      <td>1.514415e-08</td>\n",
              "      <td>3.832308e-09</td>\n",
              "      <td>1.131184e-08</td>\n",
              "      <td>2.809866e-07</td>\n",
              "      <td>-0.000057</td>\n",
              "      <td>0.000019</td>\n",
              "      <td>0.0</td>\n",
              "      <td>0.000021</td>\n",
              "      <td>0.027133</td>\n",
              "      <td>0.563959</td>\n",
              "      <td>...</td>\n",
              "      <td>0.000177</td>\n",
              "      <td>0.250748</td>\n",
              "      <td>22.0</td>\n",
              "      <td>2.640359e-10</td>\n",
              "      <td>9.601031e-11</td>\n",
              "      <td>2.136760e-11</td>\n",
              "      <td>1.223541e-11</td>\n",
              "      <td>1.767946e-12</td>\n",
              "      <td>3.615178</td>\n",
              "      <td>1.0</td>\n",
              "    </tr>\n",
              "    <tr>\n",
              "      <th>3</th>\n",
              "      <td>1.241042e-08</td>\n",
              "      <td>3.621845e-09</td>\n",
              "      <td>8.788571e-09</td>\n",
              "      <td>6.408471e-07</td>\n",
              "      <td>-0.000047</td>\n",
              "      <td>0.000018</td>\n",
              "      <td>0.0</td>\n",
              "      <td>0.000020</td>\n",
              "      <td>-0.088474</td>\n",
              "      <td>0.620514</td>\n",
              "      <td>...</td>\n",
              "      <td>0.000167</td>\n",
              "      <td>0.236297</td>\n",
              "      <td>28.6</td>\n",
              "      <td>2.359125e-10</td>\n",
              "      <td>8.217361e-11</td>\n",
              "      <td>2.774180e-11</td>\n",
              "      <td>1.162628e-11</td>\n",
              "      <td>4.464775e-12</td>\n",
              "      <td>3.756513</td>\n",
              "      <td>1.0</td>\n",
              "    </tr>\n",
              "    <tr>\n",
              "      <th>4</th>\n",
              "      <td>2.222277e-08</td>\n",
              "      <td>5.579810e-09</td>\n",
              "      <td>1.664296e-08</td>\n",
              "      <td>-1.019392e-06</td>\n",
              "      <td>-0.000022</td>\n",
              "      <td>0.000024</td>\n",
              "      <td>0.0</td>\n",
              "      <td>0.000026</td>\n",
              "      <td>-0.127484</td>\n",
              "      <td>1.499476</td>\n",
              "      <td>...</td>\n",
              "      <td>0.000269</td>\n",
              "      <td>0.307929</td>\n",
              "      <td>25.4</td>\n",
              "      <td>4.305053e-10</td>\n",
              "      <td>1.219061e-10</td>\n",
              "      <td>2.998843e-11</td>\n",
              "      <td>5.046479e-11</td>\n",
              "      <td>6.630836e-12</td>\n",
              "      <td>3.793919</td>\n",
              "      <td>1.0</td>\n",
              "    </tr>\n",
              "  </tbody>\n",
              "</table>\n",
              "<p>5 rows × 22 columns</p>\n",
              "</div>\n",
              "    <div class=\"colab-df-buttons\">\n",
              "\n",
              "  <div class=\"colab-df-container\">\n",
              "    <button class=\"colab-df-convert\" onclick=\"convertToInteractive('df-ede829dd-1cc8-4a85-b85a-49003ad67c07')\"\n",
              "            title=\"Convert this dataframe to an interactive table.\"\n",
              "            style=\"display:none;\">\n",
              "\n",
              "  <svg xmlns=\"http://www.w3.org/2000/svg\" height=\"24px\" viewBox=\"0 -960 960 960\">\n",
              "    <path d=\"M120-120v-720h720v720H120Zm60-500h600v-160H180v160Zm220 220h160v-160H400v160Zm0 220h160v-160H400v160ZM180-400h160v-160H180v160Zm440 0h160v-160H620v160ZM180-180h160v-160H180v160Zm440 0h160v-160H620v160Z\"/>\n",
              "  </svg>\n",
              "    </button>\n",
              "\n",
              "  <style>\n",
              "    .colab-df-container {\n",
              "      display:flex;\n",
              "      gap: 12px;\n",
              "    }\n",
              "\n",
              "    .colab-df-convert {\n",
              "      background-color: #E8F0FE;\n",
              "      border: none;\n",
              "      border-radius: 50%;\n",
              "      cursor: pointer;\n",
              "      display: none;\n",
              "      fill: #1967D2;\n",
              "      height: 32px;\n",
              "      padding: 0 0 0 0;\n",
              "      width: 32px;\n",
              "    }\n",
              "\n",
              "    .colab-df-convert:hover {\n",
              "      background-color: #E2EBFA;\n",
              "      box-shadow: 0px 1px 2px rgba(60, 64, 67, 0.3), 0px 1px 3px 1px rgba(60, 64, 67, 0.15);\n",
              "      fill: #174EA6;\n",
              "    }\n",
              "\n",
              "    .colab-df-buttons div {\n",
              "      margin-bottom: 4px;\n",
              "    }\n",
              "\n",
              "    [theme=dark] .colab-df-convert {\n",
              "      background-color: #3B4455;\n",
              "      fill: #D2E3FC;\n",
              "    }\n",
              "\n",
              "    [theme=dark] .colab-df-convert:hover {\n",
              "      background-color: #434B5C;\n",
              "      box-shadow: 0px 1px 3px 1px rgba(0, 0, 0, 0.15);\n",
              "      filter: drop-shadow(0px 1px 2px rgba(0, 0, 0, 0.3));\n",
              "      fill: #FFFFFF;\n",
              "    }\n",
              "  </style>\n",
              "\n",
              "    <script>\n",
              "      const buttonEl =\n",
              "        document.querySelector('#df-ede829dd-1cc8-4a85-b85a-49003ad67c07 button.colab-df-convert');\n",
              "      buttonEl.style.display =\n",
              "        google.colab.kernel.accessAllowed ? 'block' : 'none';\n",
              "\n",
              "      async function convertToInteractive(key) {\n",
              "        const element = document.querySelector('#df-ede829dd-1cc8-4a85-b85a-49003ad67c07');\n",
              "        const dataTable =\n",
              "          await google.colab.kernel.invokeFunction('convertToInteractive',\n",
              "                                                    [key], {});\n",
              "        if (!dataTable) return;\n",
              "\n",
              "        const docLinkHtml = 'Like what you see? Visit the ' +\n",
              "          '<a target=\"_blank\" href=https://colab.research.google.com/notebooks/data_table.ipynb>data table notebook</a>'\n",
              "          + ' to learn more about interactive tables.';\n",
              "        element.innerHTML = '';\n",
              "        dataTable['output_type'] = 'display_data';\n",
              "        await google.colab.output.renderOutput(dataTable, element);\n",
              "        const docLink = document.createElement('div');\n",
              "        docLink.innerHTML = docLinkHtml;\n",
              "        element.appendChild(docLink);\n",
              "      }\n",
              "    </script>\n",
              "  </div>\n",
              "\n",
              "\n",
              "<div id=\"df-358a2c6f-4dfe-4ea3-abf2-1f025ae41f16\">\n",
              "  <button class=\"colab-df-quickchart\" onclick=\"quickchart('df-358a2c6f-4dfe-4ea3-abf2-1f025ae41f16')\"\n",
              "            title=\"Suggest charts\"\n",
              "            style=\"display:none;\">\n",
              "\n",
              "<svg xmlns=\"http://www.w3.org/2000/svg\" height=\"24px\"viewBox=\"0 0 24 24\"\n",
              "     width=\"24px\">\n",
              "    <g>\n",
              "        <path d=\"M19 3H5c-1.1 0-2 .9-2 2v14c0 1.1.9 2 2 2h14c1.1 0 2-.9 2-2V5c0-1.1-.9-2-2-2zM9 17H7v-7h2v7zm4 0h-2V7h2v10zm4 0h-2v-4h2v4z\"/>\n",
              "    </g>\n",
              "</svg>\n",
              "  </button>\n",
              "\n",
              "<style>\n",
              "  .colab-df-quickchart {\n",
              "      --bg-color: #E8F0FE;\n",
              "      --fill-color: #1967D2;\n",
              "      --hover-bg-color: #E2EBFA;\n",
              "      --hover-fill-color: #174EA6;\n",
              "      --disabled-fill-color: #AAA;\n",
              "      --disabled-bg-color: #DDD;\n",
              "  }\n",
              "\n",
              "  [theme=dark] .colab-df-quickchart {\n",
              "      --bg-color: #3B4455;\n",
              "      --fill-color: #D2E3FC;\n",
              "      --hover-bg-color: #434B5C;\n",
              "      --hover-fill-color: #FFFFFF;\n",
              "      --disabled-bg-color: #3B4455;\n",
              "      --disabled-fill-color: #666;\n",
              "  }\n",
              "\n",
              "  .colab-df-quickchart {\n",
              "    background-color: var(--bg-color);\n",
              "    border: none;\n",
              "    border-radius: 50%;\n",
              "    cursor: pointer;\n",
              "    display: none;\n",
              "    fill: var(--fill-color);\n",
              "    height: 32px;\n",
              "    padding: 0;\n",
              "    width: 32px;\n",
              "  }\n",
              "\n",
              "  .colab-df-quickchart:hover {\n",
              "    background-color: var(--hover-bg-color);\n",
              "    box-shadow: 0 1px 2px rgba(60, 64, 67, 0.3), 0 1px 3px 1px rgba(60, 64, 67, 0.15);\n",
              "    fill: var(--button-hover-fill-color);\n",
              "  }\n",
              "\n",
              "  .colab-df-quickchart-complete:disabled,\n",
              "  .colab-df-quickchart-complete:disabled:hover {\n",
              "    background-color: var(--disabled-bg-color);\n",
              "    fill: var(--disabled-fill-color);\n",
              "    box-shadow: none;\n",
              "  }\n",
              "\n",
              "  .colab-df-spinner {\n",
              "    border: 2px solid var(--fill-color);\n",
              "    border-color: transparent;\n",
              "    border-bottom-color: var(--fill-color);\n",
              "    animation:\n",
              "      spin 1s steps(1) infinite;\n",
              "  }\n",
              "\n",
              "  @keyframes spin {\n",
              "    0% {\n",
              "      border-color: transparent;\n",
              "      border-bottom-color: var(--fill-color);\n",
              "      border-left-color: var(--fill-color);\n",
              "    }\n",
              "    20% {\n",
              "      border-color: transparent;\n",
              "      border-left-color: var(--fill-color);\n",
              "      border-top-color: var(--fill-color);\n",
              "    }\n",
              "    30% {\n",
              "      border-color: transparent;\n",
              "      border-left-color: var(--fill-color);\n",
              "      border-top-color: var(--fill-color);\n",
              "      border-right-color: var(--fill-color);\n",
              "    }\n",
              "    40% {\n",
              "      border-color: transparent;\n",
              "      border-right-color: var(--fill-color);\n",
              "      border-top-color: var(--fill-color);\n",
              "    }\n",
              "    60% {\n",
              "      border-color: transparent;\n",
              "      border-right-color: var(--fill-color);\n",
              "    }\n",
              "    80% {\n",
              "      border-color: transparent;\n",
              "      border-right-color: var(--fill-color);\n",
              "      border-bottom-color: var(--fill-color);\n",
              "    }\n",
              "    90% {\n",
              "      border-color: transparent;\n",
              "      border-bottom-color: var(--fill-color);\n",
              "    }\n",
              "  }\n",
              "</style>\n",
              "\n",
              "  <script>\n",
              "    async function quickchart(key) {\n",
              "      const quickchartButtonEl =\n",
              "        document.querySelector('#' + key + ' button');\n",
              "      quickchartButtonEl.disabled = true;  // To prevent multiple clicks.\n",
              "      quickchartButtonEl.classList.add('colab-df-spinner');\n",
              "      try {\n",
              "        const charts = await google.colab.kernel.invokeFunction(\n",
              "            'suggestCharts', [key], {});\n",
              "      } catch (error) {\n",
              "        console.error('Error during call to suggestCharts:', error);\n",
              "      }\n",
              "      quickchartButtonEl.classList.remove('colab-df-spinner');\n",
              "      quickchartButtonEl.classList.add('colab-df-quickchart-complete');\n",
              "    }\n",
              "    (() => {\n",
              "      let quickchartButtonEl =\n",
              "        document.querySelector('#df-358a2c6f-4dfe-4ea3-abf2-1f025ae41f16 button');\n",
              "      quickchartButtonEl.style.display =\n",
              "        google.colab.kernel.accessAllowed ? 'block' : 'none';\n",
              "    })();\n",
              "  </script>\n",
              "</div>\n",
              "    </div>\n",
              "  </div>\n"
            ]
          },
          "metadata": {},
          "execution_count": 5
        }
      ]
    },
    {
      "cell_type": "code",
      "source": [
        "null_data_summary = dataset.isnull().sum()\n",
        "print(\"Null Data Summary:\")\n",
        "print(null_data_summary)"
      ],
      "metadata": {
        "colab": {
          "base_uri": "https://localhost:8080/"
        },
        "id": "hOvkpNc536IX",
        "outputId": "2a0f561e-be57-4363-a0f0-1221351f2957"
      },
      "execution_count": 7,
      "outputs": [
        {
          "output_type": "stream",
          "name": "stdout",
          "text": [
            "Null Data Summary:\n",
            "total_energy             0\n",
            "cD_Energy                0\n",
            "cA_Energy                0\n",
            "cD_mean                  0\n",
            "cA_mean                  0\n",
            "cD_std                   0\n",
            "cA_std                   0\n",
            "std_deviation            0\n",
            "skewness                65\n",
            "kurtosis                65\n",
            "median                   0\n",
            "band_power               0\n",
            "peak_to_peak_voltage     0\n",
            "total_signal_area        0\n",
            "decorrelation_time       0\n",
            "delta_power              0\n",
            "theta_power              0\n",
            "alpha_power              0\n",
            "beta_power               0\n",
            "gamma_power              0\n",
            "spectral_entropy        65\n",
            "seizure                  0\n",
            "dtype: int64\n"
          ]
        }
      ]
    },
    {
      "cell_type": "code",
      "source": [
        "dataset.dropna(inplace=True)\n",
        ""
      ],
      "metadata": {
        "id": "34gmlTy84CYb"
      },
      "execution_count": 8,
      "outputs": []
    },
    {
      "cell_type": "code",
      "source": [
        "print(dataset.isnull().sum())"
      ],
      "metadata": {
        "colab": {
          "base_uri": "https://localhost:8080/"
        },
        "id": "VfN7u71y4EDL",
        "outputId": "82e2758d-285a-4990-a1b8-0572d46fc671"
      },
      "execution_count": 10,
      "outputs": [
        {
          "output_type": "stream",
          "name": "stdout",
          "text": [
            "total_energy            0\n",
            "cD_Energy               0\n",
            "cA_Energy               0\n",
            "cD_mean                 0\n",
            "cA_mean                 0\n",
            "cD_std                  0\n",
            "cA_std                  0\n",
            "std_deviation           0\n",
            "skewness                0\n",
            "kurtosis                0\n",
            "median                  0\n",
            "band_power              0\n",
            "peak_to_peak_voltage    0\n",
            "total_signal_area       0\n",
            "decorrelation_time      0\n",
            "delta_power             0\n",
            "theta_power             0\n",
            "alpha_power             0\n",
            "beta_power              0\n",
            "gamma_power             0\n",
            "spectral_entropy        0\n",
            "seizure                 0\n",
            "dtype: int64\n"
          ]
        }
      ]
    },
    {
      "cell_type": "code",
      "source": [
        "y = dataset['seizure']\n",
        "\n",
        "X = dataset.drop('cA_std', axis=1)"
      ],
      "metadata": {
        "id": "rm70ABdD4PxL"
      },
      "execution_count": 11,
      "outputs": []
    },
    {
      "cell_type": "code",
      "source": [
        "X = X.drop('seizure', axis=1)"
      ],
      "metadata": {
        "id": "QDcyNfDG4TYL"
      },
      "execution_count": 12,
      "outputs": []
    },
    {
      "cell_type": "code",
      "source": [
        "from sklearn.model_selection import train_test_split\n",
        "X_train, X_test, y_train, y_test = train_test_split(X, y, test_size=0.2, random_state=42)"
      ],
      "metadata": {
        "id": "2dDFLA8e4lmQ"
      },
      "execution_count": 15,
      "outputs": []
    },
    {
      "cell_type": "code",
      "source": [
        "from sklearn.preprocessing import StandardScaler\n",
        "\n",
        "scaler = StandardScaler()\n",
        "X_train_scaled = scaler.fit_transform(X_train)\n",
        "X_test_scaled = scaler.transform(X_test)"
      ],
      "metadata": {
        "id": "oeEdHonO412F"
      },
      "execution_count": 17,
      "outputs": []
    },
    {
      "cell_type": "markdown",
      "source": [
        "##Randomforeset"
      ],
      "metadata": {
        "id": "cpo0Vc2aAuCA"
      }
    },
    {
      "cell_type": "code",
      "source": [
        "from sklearn.ensemble import RandomForestClassifier\n",
        "from sklearn.model_selection import train_test_split, cross_val_score"
      ],
      "metadata": {
        "id": "7QyoHAYa5E_V"
      },
      "execution_count": 46,
      "outputs": []
    },
    {
      "cell_type": "code",
      "source": [
        "max_depth_values = [3, 5, 10, 100, 150, 200, 242, 300, None]\n",
        "random_state_values = [0, 42, 50, 100, 150, 200]\n",
        "\n",
        "best_accuracy = 0\n",
        "best_params = {'max_depth': None, 'random_state': None}\n",
        "\n",
        "for max_depth in max_depth_values:\n",
        "    for random_state in random_state_values:\n",
        "        model = RandomForestClassifier(max_depth=max_depth, random_state=random_state)\n",
        "        scores = cross_val_score(model, X_train, y_train, cv=5)  # 5-fold cross-validation\n",
        "        accuracy = np.mean(scores)\n",
        "\n",
        "        if accuracy > best_accuracy:\n",
        "            best_accuracy = accuracy\n",
        "            best_params = {'max_depth': max_depth, 'random_state': random_state}\n",
        "\n",
        "print(\"Best Parameters:\", best_params)\n",
        "print(\"Best Accuracy:\", best_accuracy)"
      ],
      "metadata": {
        "colab": {
          "base_uri": "https://localhost:8080/"
        },
        "id": "hvHAAZF17ZWQ",
        "outputId": "3316d7ec-c802-47c6-a7f5-313ab1ac9502"
      },
      "execution_count": 48,
      "outputs": [
        {
          "output_type": "stream",
          "name": "stdout",
          "text": [
            "Best Parameters: {'max_depth': 100, 'random_state': 150}\n",
            "Best Accuracy: 0.724009440389825\n"
          ]
        }
      ]
    },
    {
      "cell_type": "code",
      "source": [
        "clf = RandomForestClassifier(max_depth=200, random_state=40)"
      ],
      "metadata": {
        "id": "cVnywWLU52Qn"
      },
      "execution_count": 54,
      "outputs": []
    },
    {
      "cell_type": "code",
      "source": [
        "clf.fit(X_train, y_train)"
      ],
      "metadata": {
        "colab": {
          "base_uri": "https://localhost:8080/",
          "height": 75
        },
        "id": "tl__uZ8J5_ag",
        "outputId": "b867b627-3eac-49d8-e019-e7a331f5f16b"
      },
      "execution_count": 55,
      "outputs": [
        {
          "output_type": "execute_result",
          "data": {
            "text/plain": [
              "RandomForestClassifier(max_depth=200, random_state=40)"
            ],
            "text/html": [
              "<style>#sk-container-id-7 {color: black;background-color: white;}#sk-container-id-7 pre{padding: 0;}#sk-container-id-7 div.sk-toggleable {background-color: white;}#sk-container-id-7 label.sk-toggleable__label {cursor: pointer;display: block;width: 100%;margin-bottom: 0;padding: 0.3em;box-sizing: border-box;text-align: center;}#sk-container-id-7 label.sk-toggleable__label-arrow:before {content: \"▸\";float: left;margin-right: 0.25em;color: #696969;}#sk-container-id-7 label.sk-toggleable__label-arrow:hover:before {color: black;}#sk-container-id-7 div.sk-estimator:hover label.sk-toggleable__label-arrow:before {color: black;}#sk-container-id-7 div.sk-toggleable__content {max-height: 0;max-width: 0;overflow: hidden;text-align: left;background-color: #f0f8ff;}#sk-container-id-7 div.sk-toggleable__content pre {margin: 0.2em;color: black;border-radius: 0.25em;background-color: #f0f8ff;}#sk-container-id-7 input.sk-toggleable__control:checked~div.sk-toggleable__content {max-height: 200px;max-width: 100%;overflow: auto;}#sk-container-id-7 input.sk-toggleable__control:checked~label.sk-toggleable__label-arrow:before {content: \"▾\";}#sk-container-id-7 div.sk-estimator input.sk-toggleable__control:checked~label.sk-toggleable__label {background-color: #d4ebff;}#sk-container-id-7 div.sk-label input.sk-toggleable__control:checked~label.sk-toggleable__label {background-color: #d4ebff;}#sk-container-id-7 input.sk-hidden--visually {border: 0;clip: rect(1px 1px 1px 1px);clip: rect(1px, 1px, 1px, 1px);height: 1px;margin: -1px;overflow: hidden;padding: 0;position: absolute;width: 1px;}#sk-container-id-7 div.sk-estimator {font-family: monospace;background-color: #f0f8ff;border: 1px dotted black;border-radius: 0.25em;box-sizing: border-box;margin-bottom: 0.5em;}#sk-container-id-7 div.sk-estimator:hover {background-color: #d4ebff;}#sk-container-id-7 div.sk-parallel-item::after {content: \"\";width: 100%;border-bottom: 1px solid gray;flex-grow: 1;}#sk-container-id-7 div.sk-label:hover label.sk-toggleable__label {background-color: #d4ebff;}#sk-container-id-7 div.sk-serial::before {content: \"\";position: absolute;border-left: 1px solid gray;box-sizing: border-box;top: 0;bottom: 0;left: 50%;z-index: 0;}#sk-container-id-7 div.sk-serial {display: flex;flex-direction: column;align-items: center;background-color: white;padding-right: 0.2em;padding-left: 0.2em;position: relative;}#sk-container-id-7 div.sk-item {position: relative;z-index: 1;}#sk-container-id-7 div.sk-parallel {display: flex;align-items: stretch;justify-content: center;background-color: white;position: relative;}#sk-container-id-7 div.sk-item::before, #sk-container-id-7 div.sk-parallel-item::before {content: \"\";position: absolute;border-left: 1px solid gray;box-sizing: border-box;top: 0;bottom: 0;left: 50%;z-index: -1;}#sk-container-id-7 div.sk-parallel-item {display: flex;flex-direction: column;z-index: 1;position: relative;background-color: white;}#sk-container-id-7 div.sk-parallel-item:first-child::after {align-self: flex-end;width: 50%;}#sk-container-id-7 div.sk-parallel-item:last-child::after {align-self: flex-start;width: 50%;}#sk-container-id-7 div.sk-parallel-item:only-child::after {width: 0;}#sk-container-id-7 div.sk-dashed-wrapped {border: 1px dashed gray;margin: 0 0.4em 0.5em 0.4em;box-sizing: border-box;padding-bottom: 0.4em;background-color: white;}#sk-container-id-7 div.sk-label label {font-family: monospace;font-weight: bold;display: inline-block;line-height: 1.2em;}#sk-container-id-7 div.sk-label-container {text-align: center;}#sk-container-id-7 div.sk-container {/* jupyter's `normalize.less` sets `[hidden] { display: none; }` but bootstrap.min.css set `[hidden] { display: none !important; }` so we also need the `!important` here to be able to override the default hidden behavior on the sphinx rendered scikit-learn.org. See: https://github.com/scikit-learn/scikit-learn/issues/21755 */display: inline-block !important;position: relative;}#sk-container-id-7 div.sk-text-repr-fallback {display: none;}</style><div id=\"sk-container-id-7\" class=\"sk-top-container\"><div class=\"sk-text-repr-fallback\"><pre>RandomForestClassifier(max_depth=200, random_state=40)</pre><b>In a Jupyter environment, please rerun this cell to show the HTML representation or trust the notebook. <br />On GitHub, the HTML representation is unable to render, please try loading this page with nbviewer.org.</b></div><div class=\"sk-container\" hidden><div class=\"sk-item\"><div class=\"sk-estimator sk-toggleable\"><input class=\"sk-toggleable__control sk-hidden--visually\" id=\"sk-estimator-id-7\" type=\"checkbox\" checked><label for=\"sk-estimator-id-7\" class=\"sk-toggleable__label sk-toggleable__label-arrow\">RandomForestClassifier</label><div class=\"sk-toggleable__content\"><pre>RandomForestClassifier(max_depth=200, random_state=40)</pre></div></div></div></div></div>"
            ]
          },
          "metadata": {},
          "execution_count": 55
        }
      ]
    },
    {
      "cell_type": "code",
      "source": [
        "y_pred_randomforeset = clf.predict(X_test)"
      ],
      "metadata": {
        "id": "5yq6Lyib6FBW"
      },
      "execution_count": 69,
      "outputs": []
    },
    {
      "cell_type": "code",
      "source": [
        "from sklearn.metrics import accuracy_score"
      ],
      "metadata": {
        "id": "r1_P_lak6ot6"
      },
      "execution_count": 70,
      "outputs": []
    },
    {
      "cell_type": "code",
      "source": [
        "accuracy = accuracy_score(y_test, y_pred_randomforeset)\n",
        "print(accuracy)"
      ],
      "metadata": {
        "colab": {
          "base_uri": "https://localhost:8080/"
        },
        "id": "8mGTUj8o6VK4",
        "outputId": "a04ec916-3354-49f4-eb46-a8069ffec756"
      },
      "execution_count": 71,
      "outputs": [
        {
          "output_type": "stream",
          "name": "stdout",
          "text": [
            "0.7341996455995274\n"
          ]
        }
      ]
    },
    {
      "cell_type": "code",
      "source": [
        "from sklearn.metrics import confusion_matrix, ConfusionMatrixDisplay\n"
      ],
      "metadata": {
        "id": "IZ-A2_L4_ruG"
      },
      "execution_count": 72,
      "outputs": []
    },
    {
      "cell_type": "code",
      "source": [
        "class_names = [\"seizuer\", \"non-seizuer\"]"
      ],
      "metadata": {
        "id": "vQOTaVsCAVbz"
      },
      "execution_count": 73,
      "outputs": []
    },
    {
      "cell_type": "code",
      "source": [
        "cm = confusion_matrix(y_test, y_pred_randomforeset)\n",
        "\n",
        "disp = ConfusionMatrixDisplay(confusion_matrix=cm, display_labels=class_names)\n",
        "disp.plot(cmap=plt.cm.Blues)\n",
        "plt.show()"
      ],
      "metadata": {
        "colab": {
          "base_uri": "https://localhost:8080/",
          "height": 449
        },
        "id": "MPVDlVvG_vj8",
        "outputId": "ea293b06-4e27-4b2a-ff4a-4577ab944494"
      },
      "execution_count": 74,
      "outputs": [
        {
          "output_type": "display_data",
          "data": {
            "text/plain": [
              "<Figure size 640x480 with 2 Axes>"
            ],
            "image/png": "[encoded data removed]"
          },
          "metadata": {}
        }
      ]
    },
    {
      "cell_type": "markdown",
      "source": [
        "##SVM"
      ],
      "metadata": {
        "id": "z76Fz6NuA1_2"
      }
    },
    {
      "cell_type": "code",
      "source": [
        "from sklearn.svm import SVC\n",
        "from sklearn.impute import SimpleImputer"
      ],
      "metadata": {
        "id": "pDc81szCBIDl"
      },
      "execution_count": 75,
      "outputs": []
    },
    {
      "cell_type": "code",
      "source": [
        "best_svm_model = SVC(kernel='rbf', C=10, gamma=0.9, random_state=42)\n",
        "best_svm_model.fit(X_train_scaled, y_train)\n",
        "\n",
        "y_pred_svm = best_svm_model.predict(X_test_scaled)\n",
        "\n",
        "accuracy_param = accuracy_score(y_test, y_pred_svm)\n",
        "print(f\"Accuracy with Best Hyperparameters: {accuracy_param}\")"
      ],
      "metadata": {
        "colab": {
          "base_uri": "https://localhost:8080/"
        },
        "id": "XZ7clANvA1U5",
        "outputId": "b9210646-12b2-45f1-a556-2ee76ddbae13"
      },
      "execution_count": 76,
      "outputs": [
        {
          "output_type": "stream",
          "name": "stdout",
          "text": [
            "Accuracy with Best Hyperparameters: 0.7424689899586533\n"
          ]
        }
      ]
    },
    {
      "cell_type": "code",
      "source": [
        "cm = confusion_matrix(y_test, y_pred_svm)\n",
        "\n",
        "disp = ConfusionMatrixDisplay(confusion_matrix=cm, display_labels=class_names)\n",
        "disp.plot(cmap=plt.cm.Blues)\n",
        "plt.show()"
      ],
      "metadata": {
        "colab": {
          "base_uri": "https://localhost:8080/",
          "height": 449
        },
        "id": "40jn3PSgBX6W",
        "outputId": "0cc8d5f2-2bd8-479c-eba0-bdf054d1661c"
      },
      "execution_count": 77,
      "outputs": [
        {
          "output_type": "display_data",
          "data": {
            "text/plain": [
              "<Figure size 640x480 with 2 Axes>"
            ],
            "image/png": "[encoded data removed]"
          },
          "metadata": {}
        }
      ]
    },
    {
      "cell_type": "markdown",
      "source": [
        "##Analysis"
      ],
      "metadata": {
        "id": "3ActNtaqB6lB"
      }
    },
    {
      "cell_type": "code",
      "source": [
        "rand_true_svm_false = 0\n",
        "rand_false_svm_true = 0\n",
        "both_false = 0\n",
        "for rand,svm,actual in zip(y_pred_randomforeset,y_pred_svm, y_test):\n",
        "  if rand == actual and svm != actual:\n",
        "    rand_true_svm_false+=1\n",
        "  elif rand != actual and svm == actual:\n",
        "    rand_false_svm_true+=1\n",
        "  elif rand != actual and svm != actual:\n",
        "    both_false +=1\n",
        "print(f\"rand_true_svm_false : {rand_true_svm_false}, rand_false_svm_true : {rand_false_svm_true}, both_false: {both_false}\")\n",
        "y_test.shape"
      ],
      "metadata": {
        "colab": {
          "base_uri": "https://localhost:8080/"
        },
        "id": "hBP3VEhnB9QG",
        "outputId": "88aae7f1-5c28-4346-a76d-10eebd0462ed"
      },
      "execution_count": 79,
      "outputs": [
        {
          "output_type": "stream",
          "name": "stdout",
          "text": [
            "rand_true_svm_false : 185, rand_false_svm_true : 199, both_false: 251\n"
          ]
        },
        {
          "output_type": "execute_result",
          "data": {
            "text/plain": [
              "(1693,)"
            ]
          },
          "metadata": {},
          "execution_count": 79
        }
      ]
    }
  ]
}